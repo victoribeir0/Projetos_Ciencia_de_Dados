{
  "nbformat": 4,
  "nbformat_minor": 0,
  "metadata": {
    "colab": {
      "name": "selecao_caracteristicas.ipynb",
      "provenance": [],
      "mount_file_id": "1oPae4TxxpcHpXGJkT-Rcycrg5m1_YoPp",
      "authorship_tag": "ABX9TyM+X8FyJae97Qy+eyuV0iZL",
      "include_colab_link": true
    },
    "kernelspec": {
      "name": "python3",
      "display_name": "Python 3"
    },
    "language_info": {
      "name": "python"
    }
  },
  "cells": [
    {
      "cell_type": "markdown",
      "metadata": {
        "id": "view-in-github",
        "colab_type": "text"
      },
      "source": [
        "<a href=\"https://colab.research.google.com/github/victoribeir0/Projetos_Ciencia_de_Dados/blob/main/selecao_caracteristicas.ipynb\" target=\"_parent\"><img src=\"https://colab.research.google.com/assets/colab-badge.svg\" alt=\"Open In Colab\"/></a>"
      ]
    },
    {
      "cell_type": "markdown",
      "metadata": {
        "id": "fx7jGhumhOn_"
      },
      "source": [
        "## Imports"
      ]
    },
    {
      "cell_type": "code",
      "metadata": {
        "id": "lC30fRa2bbJI"
      },
      "source": [
        "import numpy as np\n",
        "import pandas as pd\n",
        "import matplotlib.pyplot as plt\n",
        "\n",
        "from sklearn.datasets import load_wine, load_breast_cancer, load_digits # Imports de diferentes datasets.\n",
        "from sklearn.feature_selection import SelectKBest, VarianceThreshold, f_classif, SequentialFeatureSelector\n",
        "\n",
        "from sklearn.model_selection import train_test_split\n",
        "from sklearn.metrics import classification_report, accuracy_score\n",
        "\n",
        "from sklearn import tree"
      ],
      "execution_count": null,
      "outputs": []
    },
    {
      "cell_type": "markdown",
      "metadata": {
        "id": "NOibry9ahf2U"
      },
      "source": [
        "## Definindo os dados"
      ]
    },
    {
      "cell_type": "code",
      "metadata": {
        "id": "zBCuZDgPhkGD",
        "colab": {
          "base_uri": "https://localhost:8080/"
        },
        "outputId": "faf16f64-b108-43dc-ebe5-7432d45d644b"
      },
      "source": [
        "# Aqui pode ser carregado qualquer um dos datasets que foram importados.\n",
        "dados = load_breast_cancer() \n",
        "\n",
        "# Define as entradas (variáveis de entrada).\n",
        "X = dados.data \n",
        "\n",
        "# Define as saídas.\n",
        "Y = dados.target \n",
        "\n",
        "# Define o nome de cada variável.\n",
        "variaveis = dados.feature_names\n",
        "\n",
        "# Mostra a descrição do dataset.\n",
        "print(dados.DESCR)"
      ],
      "execution_count": null,
      "outputs": [
        {
          "output_type": "stream",
          "name": "stdout",
          "text": [
            ".. _breast_cancer_dataset:\n",
            "\n",
            "Breast cancer wisconsin (diagnostic) dataset\n",
            "--------------------------------------------\n",
            "\n",
            "**Data Set Characteristics:**\n",
            "\n",
            "    :Number of Instances: 569\n",
            "\n",
            "    :Number of Attributes: 30 numeric, predictive attributes and the class\n",
            "\n",
            "    :Attribute Information:\n",
            "        - radius (mean of distances from center to points on the perimeter)\n",
            "        - texture (standard deviation of gray-scale values)\n",
            "        - perimeter\n",
            "        - area\n",
            "        - smoothness (local variation in radius lengths)\n",
            "        - compactness (perimeter^2 / area - 1.0)\n",
            "        - concavity (severity of concave portions of the contour)\n",
            "        - concave points (number of concave portions of the contour)\n",
            "        - symmetry\n",
            "        - fractal dimension (\"coastline approximation\" - 1)\n",
            "\n",
            "        The mean, standard error, and \"worst\" or largest (mean of the three\n",
            "        worst/largest values) of these features were computed for each image,\n",
            "        resulting in 30 features.  For instance, field 0 is Mean Radius, field\n",
            "        10 is Radius SE, field 20 is Worst Radius.\n",
            "\n",
            "        - class:\n",
            "                - WDBC-Malignant\n",
            "                - WDBC-Benign\n",
            "\n",
            "    :Summary Statistics:\n",
            "\n",
            "    ===================================== ====== ======\n",
            "                                           Min    Max\n",
            "    ===================================== ====== ======\n",
            "    radius (mean):                        6.981  28.11\n",
            "    texture (mean):                       9.71   39.28\n",
            "    perimeter (mean):                     43.79  188.5\n",
            "    area (mean):                          143.5  2501.0\n",
            "    smoothness (mean):                    0.053  0.163\n",
            "    compactness (mean):                   0.019  0.345\n",
            "    concavity (mean):                     0.0    0.427\n",
            "    concave points (mean):                0.0    0.201\n",
            "    symmetry (mean):                      0.106  0.304\n",
            "    fractal dimension (mean):             0.05   0.097\n",
            "    radius (standard error):              0.112  2.873\n",
            "    texture (standard error):             0.36   4.885\n",
            "    perimeter (standard error):           0.757  21.98\n",
            "    area (standard error):                6.802  542.2\n",
            "    smoothness (standard error):          0.002  0.031\n",
            "    compactness (standard error):         0.002  0.135\n",
            "    concavity (standard error):           0.0    0.396\n",
            "    concave points (standard error):      0.0    0.053\n",
            "    symmetry (standard error):            0.008  0.079\n",
            "    fractal dimension (standard error):   0.001  0.03\n",
            "    radius (worst):                       7.93   36.04\n",
            "    texture (worst):                      12.02  49.54\n",
            "    perimeter (worst):                    50.41  251.2\n",
            "    area (worst):                         185.2  4254.0\n",
            "    smoothness (worst):                   0.071  0.223\n",
            "    compactness (worst):                  0.027  1.058\n",
            "    concavity (worst):                    0.0    1.252\n",
            "    concave points (worst):               0.0    0.291\n",
            "    symmetry (worst):                     0.156  0.664\n",
            "    fractal dimension (worst):            0.055  0.208\n",
            "    ===================================== ====== ======\n",
            "\n",
            "    :Missing Attribute Values: None\n",
            "\n",
            "    :Class Distribution: 212 - Malignant, 357 - Benign\n",
            "\n",
            "    :Creator:  Dr. William H. Wolberg, W. Nick Street, Olvi L. Mangasarian\n",
            "\n",
            "    :Donor: Nick Street\n",
            "\n",
            "    :Date: November, 1995\n",
            "\n",
            "This is a copy of UCI ML Breast Cancer Wisconsin (Diagnostic) datasets.\n",
            "https://goo.gl/U2Uwz2\n",
            "\n",
            "Features are computed from a digitized image of a fine needle\n",
            "aspirate (FNA) of a breast mass.  They describe\n",
            "characteristics of the cell nuclei present in the image.\n",
            "\n",
            "Separating plane described above was obtained using\n",
            "Multisurface Method-Tree (MSM-T) [K. P. Bennett, \"Decision Tree\n",
            "Construction Via Linear Programming.\" Proceedings of the 4th\n",
            "Midwest Artificial Intelligence and Cognitive Science Society,\n",
            "pp. 97-101, 1992], a classification method which uses linear\n",
            "programming to construct a decision tree.  Relevant features\n",
            "were selected using an exhaustive search in the space of 1-4\n",
            "features and 1-3 separating planes.\n",
            "\n",
            "The actual linear program used to obtain the separating plane\n",
            "in the 3-dimensional space is that described in:\n",
            "[K. P. Bennett and O. L. Mangasarian: \"Robust Linear\n",
            "Programming Discrimination of Two Linearly Inseparable Sets\",\n",
            "Optimization Methods and Software 1, 1992, 23-34].\n",
            "\n",
            "This database is also available through the UW CS ftp server:\n",
            "\n",
            "ftp ftp.cs.wisc.edu\n",
            "cd math-prog/cpo-dataset/machine-learn/WDBC/\n",
            "\n",
            ".. topic:: References\n",
            "\n",
            "   - W.N. Street, W.H. Wolberg and O.L. Mangasarian. Nuclear feature extraction \n",
            "     for breast tumor diagnosis. IS&T/SPIE 1993 International Symposium on \n",
            "     Electronic Imaging: Science and Technology, volume 1905, pages 861-870,\n",
            "     San Jose, CA, 1993.\n",
            "   - O.L. Mangasarian, W.N. Street and W.H. Wolberg. Breast cancer diagnosis and \n",
            "     prognosis via linear programming. Operations Research, 43(4), pages 570-577, \n",
            "     July-August 1995.\n",
            "   - W.H. Wolberg, W.N. Street, and O.L. Mangasarian. Machine learning techniques\n",
            "     to diagnose breast cancer from fine-needle aspirates. Cancer Letters 77 (1994) \n",
            "     163-171.\n"
          ]
        }
      ]
    },
    {
      "cell_type": "markdown",
      "metadata": {
        "id": "bG9_Ihle6qVt"
      },
      "source": [
        "## Definindo o classificador"
      ]
    },
    {
      "cell_type": "code",
      "metadata": {
        "id": "b1Muw2PrzqcZ"
      },
      "source": [
        "def arvore(X,Y):\n",
        "  x_treino, x_teste, y_treino, y_teste = train_test_split(X,\n",
        "                                                          Y,\n",
        "                                                          stratify=Y,\n",
        "                                                          test_size=0.25,\n",
        "                                                          random_state=1)\n",
        "  \n",
        "  clf = tree.DecisionTreeClassifier()\n",
        "  clf.fit(x_treino,y_treino)\n",
        "  y_pred = clf.predict(x_teste)\n",
        "  return  100*np.round(accuracy_score(y_teste, y_pred, normalize=True),2)"
      ],
      "execution_count": null,
      "outputs": []
    },
    {
      "cell_type": "markdown",
      "metadata": {
        "id": "pxc7IbhimJf2"
      },
      "source": [
        "## Seleção de características (ou variáveis)\n",
        "Aqui serão apresentados três técnicas, todas do módulo de seleção de características do *scikit-learn*.\n",
        "### 1. Seleção de variáveis baseada em variância\n",
        "\n"
      ]
    },
    {
      "cell_type": "code",
      "metadata": {
        "colab": {
          "base_uri": "https://localhost:8080/"
        },
        "id": "sBUqRIB_lJ_F",
        "outputId": "87aa7d5a-53c3-4ff0-820b-3833bbf63cbf"
      },
      "source": [
        "# Valor mínimo para as variâncias (esse valor é escolhido pelo usuário e depende do conjunto de dados, é importate testar com vários valores).\n",
        "minimo = 30\n",
        "vt = VarianceThreshold(minimo) \n",
        "\n",
        "# Redução das variáveis de acordo com a variância (X_novo terá menos variáveis que o X).\n",
        "X_novo = vt.fit_transform(X) \n",
        "\n",
        "# Determina as variâncias para cada variável em X.\n",
        "variancias = vt.fit(X,Y)\n",
        "\n",
        "# Cria um DataFrame com as variâncias e para as variáveis.\n",
        "df_scores = pd.DataFrame(variancias.variances_)\n",
        "df_var = pd.DataFrame(variaveis)\n",
        "\n",
        "# Concatena os dois DataFrames e adiciona os nomes das colunas.\n",
        "df_var = pd.concat([df_var,df_scores], axis=1)\n",
        "df_var.columns = ['Característica','Variância']\n",
        "\n",
        "# Mostra o DataFrame com todas a características e suas variâncias.\n",
        "# print(df_var)\n",
        "print('\\n')\n",
        "\n",
        "# Mantém somente as características que são maiores que o minimo e remove as outras.\n",
        "filtro = df_var['Variância'] >= minimo\n",
        "df_var.where(filtro, inplace = True)\n",
        "df_var = df_var.dropna()\n",
        "\n",
        "# Mostra o DataFrame com somentes as características que possuem variâncias maiores que o limite.\n",
        "print(df_var.nlargest(X_novo.shape[1],'Variância'))\n",
        "\n",
        "# Mostra o número inicial de variáveis e o número final (reduzido).\n",
        "print('\\n')\n",
        "print('Número inicial de variáveis: ' + str(X.shape[1]))\n",
        "print('Número final de variáveis: ' + str(X_novo.shape[1]))\n",
        "print('\\n')\n",
        "\n",
        "# Mostra os resultados obtidos, com os dados não reduzidos e com os dados reduzidos.\n",
        "print('Acurácia:')\n",
        "print('Acurácia (dados não reduzidos): ' + str(arvore(X,Y)) + '% | ' + 'Acurácia (dados reduzidos): ' + str(arvore(X_novo,Y)) + '%')\n",
        "print('Classificador: Árvore de Decisão')"
      ],
      "execution_count": null,
      "outputs": [
        {
          "output_type": "stream",
          "name": "stdout",
          "text": [
            "\n",
            "\n",
            "     Característica      Variância\n",
            "23       worst area  323597.670893\n",
            "3         mean area  123625.903080\n",
            "13       area error    2065.794621\n",
            "22  worst perimeter    1127.146434\n",
            "2    mean perimeter     589.402799\n",
            "21    worst texture      37.710092\n",
            "\n",
            "\n",
            "Número inicial de variáveis: 30\n",
            "Número final de variáveis: 6\n",
            "\n",
            "\n",
            "Acurácia:\n",
            "Acurácia (dados não reduzidos): 93.0% | Acurácia (dados reduzidos): 94.0%\n",
            "Classificador: Árvore de Decisão\n"
          ]
        }
      ]
    },
    {
      "cell_type": "markdown",
      "metadata": {
        "id": "SS3ATP-OmV9L"
      },
      "source": [
        "### 2. Seleção baseada em scores de variáveis (SelectKBest)\n",
        "\n"
      ]
    },
    {
      "cell_type": "code",
      "metadata": {
        "colab": {
          "base_uri": "https://localhost:8080/"
        },
        "id": "qzb1rU7vmR9r",
        "outputId": "00841bfd-0bb9-4499-8a79-0807892746d7"
      },
      "source": [
        "# Inicia o seletor de variáveis, k = número de variáveis que serão selecionadas.\n",
        "k_melhores = SelectKBest(f_classif, k=6)\n",
        "\n",
        "# Redução das variáveis de acordo com a variância (X_novo terá menos variáveis que o X).\n",
        "X_novo = k_melhores.fit_transform(X,Y)\n",
        "\n",
        "# Determina o score para as variáveis.\n",
        "scores = k_melhores.fit(X,Y)\n",
        "\n",
        "# Cria um DataFrame com os scores e para as variáveis.\n",
        "df_scores2 = pd.DataFrame(scores.scores_)\n",
        "df_var2 = pd.DataFrame(variaveis)\n",
        "\n",
        "# Concatena os dois DataFrames e adiciona os nomes das colunas.\n",
        "df_var2 = pd.concat([df_var2,df_scores2], axis=1)\n",
        "df_var2.columns = ['Característica','Score']\n",
        "\n",
        "# Mostra o DataFrame com todas a características e suas variâncias.\n",
        "# print(df_var2)\n",
        "print('\\n')\n",
        "\n",
        "# Mostra o DataFrame com somentes as k características com maior score.\n",
        "print(df_var2.nlargest(k,'Score'))\n",
        "print('\\n')\n",
        "\n",
        "# Mostra os resultados obtidos, com os dados não reduzidos e com os dados reduzidos.\n",
        "print('Acurácia:')\n",
        "print('Acurácia (dados não reduzidos): ' + str(arvore(X,Y)) + '% | ' + 'Acurácia (dados reduzidos): ' + str(arvore(X_novo,Y)) + '%')\n",
        "print('Classificador: Árvore de Decisão')"
      ],
      "execution_count": null,
      "outputs": [
        {
          "output_type": "stream",
          "name": "stdout",
          "text": [
            "\n",
            "\n",
            "          Característica       Score\n",
            "27  worst concave points  964.385393\n",
            "22       worst perimeter  897.944219\n",
            "7    mean concave points  861.676020\n",
            "20          worst radius  860.781707\n",
            "2         mean perimeter  697.235272\n",
            "23            worst area  661.600206\n",
            "\n",
            "\n",
            "Acurácia:\n",
            "Acurácia (dados não reduzidos): 94.0% | Acurácia (dados reduzidos): 94.0%\n",
            "Classificador: Árvore de Decisão\n"
          ]
        }
      ]
    },
    {
      "cell_type": "markdown",
      "metadata": {
        "id": "syNxoN096Gqx"
      },
      "source": [
        "### 3. Seleção sequencial de varíaveis"
      ]
    },
    {
      "cell_type": "code",
      "metadata": {
        "colab": {
          "base_uri": "https://localhost:8080/"
        },
        "id": "BF03OQEG6Urz",
        "outputId": "2245226d-e00d-4af5-8d68-e148761bc116"
      },
      "source": [
        "# Define o classificador a ser usado.\n",
        "modelo = tree.DecisionTreeClassifier()\n",
        "\n",
        "# Inicia o seletor de variáveis, n_features_to_select = número de variáveis que serão selecionadas.\n",
        "sfs = SequentialFeatureSelector(modelo, n_features_to_select = 5)\n",
        "sfs.fit(X, Y)\n",
        "\n",
        "# Redução das variáveis de acordo com a variância (X_novo terá menos variáveis que o X).\n",
        "X_novo = sfs.transform(X)\n",
        "\n",
        "# Mostra quais variáveis foram selecionadas.\n",
        "var = np.array(variaveis)\n",
        "print('Variáveis selecionadas:')\n",
        "print(var[sfs.get_support()])\n",
        "print('\\n')\n",
        "\n",
        "# Mostra os resultados obtidos, com os dados não reduzidos e com os dados reduzidos.\n",
        "print('Acurácia:')\n",
        "print('Acurácia (dados não reduzidos): ' + str(arvore(X,Y)) + '% | ' + 'Acurácia (dados reduzidos): ' + str(arvore(X_novo,Y)) + '%')\n",
        "print('Classificador: Árvore de Decisão')"
      ],
      "execution_count": null,
      "outputs": [
        {
          "output_type": "stream",
          "name": "stdout",
          "text": [
            "Variáveis selecionadas:\n",
            "['mean texture' 'mean compactness' 'texture error' 'worst radius'\n",
            " 'worst concave points']\n",
            "\n",
            "\n",
            "Acurácia:\n",
            "Acurácia (dados não reduzidos): 94.0% | Acurácia (dados reduzidos): 95.0%\n",
            "Classificador: Árvore de Decisão\n"
          ]
        }
      ]
    }
  ]
}