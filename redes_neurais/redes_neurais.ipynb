{
  "nbformat": 4,
  "nbformat_minor": 0,
  "metadata": {
    "colab": {
      "name": "redes_neurais.ipynb",
      "provenance": [],
      "authorship_tag": "ABX9TyNEQxpOBHDruXlBr7j7ZKsW",
      "include_colab_link": true
    },
    "kernelspec": {
      "name": "python3",
      "display_name": "Python 3"
    },
    "language_info": {
      "name": "python"
    }
  },
  "cells": [
    {
      "cell_type": "markdown",
      "metadata": {
        "id": "view-in-github",
        "colab_type": "text"
      },
      "source": [
        "<a href=\"https://colab.research.google.com/github/victoribeir0/redes_neurais_python/blob/main/redes_neurais.ipynb\" target=\"_parent\"><img src=\"https://colab.research.google.com/assets/colab-badge.svg\" alt=\"Open In Colab\"/></a>"
      ]
    },
    {
      "cell_type": "code",
      "metadata": {
        "id": "iDzuV03Nv28D"
      },
      "source": [
        "from sklearn import datasets  \n",
        "from sklearn.neural_network import MLPClassifier \n",
        "from sklearn.model_selection import train_test_split\n",
        "from sklearn.metrics import classification_report\n",
        "\n",
        "# Carrega o dataset do Iris.\n",
        "iris = datasets.load_iris() \n",
        "x = iris.data   \n",
        "y = iris.target \n",
        "\n",
        "# Separa os dados de treino e teste.\n",
        "x_treino, x_teste, y_treino, y_teste = train_test_split(x, \n",
        "                                                        y, \n",
        "                                                        stratify=y, \n",
        "                                                        test_size=0.25, \n",
        "                                                        random_state=1)"
      ],
      "execution_count": 2,
      "outputs": []
    },
    {
      "cell_type": "code",
      "metadata": {
        "colab": {
          "base_uri": "https://localhost:8080/"
        },
        "id": "ZRcWjRrq3-4_",
        "outputId": "2190b3bb-53b4-461a-f206-43aba7e58a0c"
      },
      "source": [
        "clf = MLPClassifier(solver='lbfgs',          # Determina o método de otimização.\n",
        "                    activation='relu',       # Determina a função de ativação.               \n",
        "                    hidden_layer_sizes=(7,), # Determina o número elementos e o número de camadas ocultas.\n",
        "                    random_state=1)\n",
        "\n",
        "clf.fit(x_treino, y_treino)   # Ajusta a rede neural.\n",
        "y_pred = clf.predict(x_teste) # Determina a saída prevista para dados de teste.\n",
        "classes = ['Setosa','Versicolor','Virginica'] # Determia as classes.\n",
        "\n",
        "# Mostra um relatório com os resultados da rede.\n",
        "print(classification_report(y_teste, y_pred, target_names=classes))"
      ],
      "execution_count": 3,
      "outputs": [
        {
          "output_type": "stream",
          "name": "stdout",
          "text": [
            "              precision    recall  f1-score   support\n",
            "\n",
            "      Setosa       1.00      1.00      1.00        12\n",
            "  Versicolor       0.93      1.00      0.96        13\n",
            "   Virginica       1.00      0.92      0.96        13\n",
            "\n",
            "    accuracy                           0.97        38\n",
            "   macro avg       0.98      0.97      0.97        38\n",
            "weighted avg       0.98      0.97      0.97        38\n",
            "\n"
          ]
        }
      ]
    }
  ]
}
